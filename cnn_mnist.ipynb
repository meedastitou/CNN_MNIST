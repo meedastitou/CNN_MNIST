{
  "nbformat": 4,
  "nbformat_minor": 0,
  "metadata": {
    "colab": {
      "provenance": [],
      "authorship_tag": "ABX9TyPQe2Q0t+SuGZ34Fn9HjU4y",
      "include_colab_link": true
    },
    "kernelspec": {
      "name": "python3",
      "display_name": "Python 3"
    },
    "language_info": {
      "name": "python"
    }
  },
  "cells": [
    {
      "cell_type": "markdown",
      "metadata": {
        "id": "view-in-github",
        "colab_type": "text"
      },
      "source": [
        "<a href=\"https://colab.research.google.com/github/meedastitou/CNN_MNIST/blob/main/cnn_mnist.ipynb\" target=\"_parent\"><img src=\"https://colab.research.google.com/assets/colab-badge.svg\" alt=\"Open In Colab\"/></a>"
      ]
    },
    {
      "cell_type": "code",
      "execution_count": null,
      "metadata": {
        "id": "W_icUVgPS0mk"
      },
      "outputs": [],
      "source": [
        "!pip install idx2numpy"
      ]
    },
    {
      "cell_type": "code",
      "source": [
        "import torch\n",
        "import idx2numpy\n",
        "import torch.nn as nn\n",
        "import torch.optim as optim\n",
        "from torchvision import datasets, transforms\n",
        "from torch.utils.data import DataLoader, Dataset\n",
        "from tqdm import tqdm\n",
        "from sklearn.metrics import accuracy_score, f1_score\n",
        "import matplotlib.pyplot as plt\n"
      ],
      "metadata": {
        "id": "BPhskUhuhPnJ"
      },
      "execution_count": 67,
      "outputs": []
    },
    {
      "cell_type": "code",
      "source": [
        "# Check GPU availability\n",
        "device = torch.device(\"cuda\" if torch.cuda.is_available() else \"cpu\")"
      ],
      "metadata": {
        "id": "JJHiIdgOhNae"
      },
      "execution_count": 4,
      "outputs": []
    },
    {
      "cell_type": "code",
      "source": [
        "train_images_path = \"/content/data/MNIST/train-images.idx3-ubyte\"\n",
        "train_labels_path = \"/content/data/MNIST/train-labels.idx1-ubyte\"\n",
        "test_images_path = \"/content/data/MNIST/t10k-images.idx3-ubyte\"\n",
        "test_labels_path = \"/content/data/MNIST/t10k-labels.idx1-ubyte\""
      ],
      "metadata": {
        "id": "fjOARienri7b"
      },
      "execution_count": 11,
      "outputs": []
    },
    {
      "cell_type": "code",
      "source": [
        "# Load data into NumPy arrays\n",
        "train_images = idx2numpy.convert_from_file(train_images_path)\n",
        "train_labels = idx2numpy.convert_from_file(train_labels_path)\n",
        "test_images = idx2numpy.convert_from_file(test_images_path)\n",
        "test_labels = idx2numpy.convert_from_file(test_labels_path)"
      ],
      "metadata": {
        "id": "uxTX0vlHsL8e"
      },
      "execution_count": 12,
      "outputs": []
    },
    {
      "cell_type": "code",
      "source": [
        "# Verify dimensions\n",
        "print(f\"Train Images: {train_images.shape}, Train Labels: {train_labels.shape}\")\n",
        "print(f\"Test Images: {test_images.shape}, Test Labels: {test_labels.shape}\")"
      ],
      "metadata": {
        "colab": {
          "base_uri": "https://localhost:8080/"
        },
        "id": "LcK9eFiYsP9G",
        "outputId": "404a2fcc-8f99-4064-fdfd-d53491aa7140"
      },
      "execution_count": 13,
      "outputs": [
        {
          "output_type": "stream",
          "name": "stdout",
          "text": [
            "Train Images: (60000, 28, 28), Train Labels: (60000,)\n",
            "Test Images: (10000, 28, 28), Test Labels: (10000,)\n"
          ]
        }
      ]
    },
    {
      "cell_type": "code",
      "source": [
        "# customize my data for pytorch\n",
        "class mnist_data(Dataset):\n",
        "  def __init__(self, images, labels, transform):\n",
        "    self.images = images\n",
        "    self.labels = labels\n",
        "    self.transform = transform\n",
        "    self.checking_demention = self.transform(images) # just for checking dementiion and transformation to ternosr\n",
        "  def __len__ (self):\n",
        "    return len(self.labels)\n",
        "  def __getitem__(self, index) :\n",
        "    image = self.images[index]\n",
        "    label = self.labels[index]\n",
        "    image = self.transform(image)\n",
        "    return image, label\n"
      ],
      "metadata": {
        "id": "qFIbVFYOybg9"
      },
      "execution_count": 14,
      "outputs": []
    },
    {
      "cell_type": "code",
      "source": [
        "# Define transformations\n",
        "transform = transforms.Compose([\n",
        "    transforms.ToTensor(),\n",
        "    transforms.Normalize((0.5,), (0.5,))  # Normalize to [-1, 1]\n",
        "])"
      ],
      "metadata": {
        "id": "4PJ5HDxTz_oO"
      },
      "execution_count": 15,
      "outputs": []
    },
    {
      "cell_type": "code",
      "source": [
        "train_dataset = mnist_data(train_images, train_labels, transform)\n",
        "test_dataset = mnist_data(test_images, test_labels, transform)\n",
        "\n",
        "\n",
        "# create dataloader for batching\n",
        "train_loader = DataLoader(train_dataset, batch_size=64, shuffle=True)\n",
        "test_loader = DataLoader(test_dataset, batch_size=64, shuffle=False)"
      ],
      "metadata": {
        "id": "h3zamk8u0QCA",
        "colab": {
          "base_uri": "https://localhost:8080/"
        },
        "outputId": "8d03449b-4d62-4093-ac06-5ad1cde4f359"
      },
      "execution_count": 16,
      "outputs": [
        {
          "output_type": "stream",
          "name": "stderr",
          "text": [
            "/usr/local/lib/python3.10/dist-packages/torchvision/transforms/functional.py:154: UserWarning: The given NumPy array is not writable, and PyTorch does not support non-writable tensors. This means writing to this tensor will result in undefined behavior. You may want to copy the array to protect its data or make it writable before converting it to a tensor. This type of warning will be suppressed for the rest of this program. (Triggered internally at ../torch/csrc/utils/tensor_numpy.cpp:206.)\n",
            "  img = torch.from_numpy(pic.transpose((2, 0, 1))).contiguous()\n"
          ]
        }
      ]
    },
    {
      "cell_type": "code",
      "source": [
        "print(f\"Train Images: {train_dataset.checking_demention.shape}\")"
      ],
      "metadata": {
        "colab": {
          "base_uri": "https://localhost:8080/"
        },
        "id": "X_Db33aB1Ghl",
        "outputId": "b154bf4f-f5ba-4cbf-e5b2-77cd67dc6c04"
      },
      "execution_count": 17,
      "outputs": [
        {
          "output_type": "stream",
          "name": "stdout",
          "text": [
            "Train Images: torch.Size([28, 60000, 28])\n"
          ]
        }
      ]
    },
    {
      "cell_type": "code",
      "source": [],
      "metadata": {
        "id": "NzguSKKso8vn"
      },
      "execution_count": 27,
      "outputs": []
    },
    {
      "cell_type": "code",
      "source": [
        "# definition of model cnn\n",
        "class cnn(nn.Module):\n",
        "  def __init__(self):\n",
        "    super(cnn, self).__init__()\n",
        "    # convolution layer and pooling\n",
        "    self.conv1 = nn.Conv2d(1, 4, 5, stride=1, padding=0)\n",
        "    self.pool1 = nn.MaxPool2d(2,2)\n",
        "    self.conv2 = nn.Conv2d(4, 8, 5, stride=1, padding=0)\n",
        "    self.relu = nn.ReLU()\n",
        "\n",
        "    # linear layer\n",
        "    self.l1 = nn.Linear(8*4*4 , 40)\n",
        "    self.l2 = nn.Linear(40, 20)\n",
        "    self.outut = nn.Linear(20, 10)\n",
        "\n",
        "  def forward(self, x):\n",
        "    x = self.pool1(self.relu(self.conv1(x)))\n",
        "    x = self.pool1(self.relu(self.conv2(x)))\n",
        "\n",
        "    x = x.view(-1, 8 * 4 * 4)  # Flatten the tensor\n",
        "    x = self.relu(self.l1(x))\n",
        "\n",
        "    x = self.relu(self.l2(x))\n",
        "    x = self.outut(x)\n",
        "    return x\n",
        "\n",
        "model = cnn().to(device)"
      ],
      "metadata": {
        "id": "HX-K8Ya3tqFQ"
      },
      "execution_count": 54,
      "outputs": []
    },
    {
      "cell_type": "code",
      "source": [
        "criterion = nn.CrossEntropyLoss()\n",
        "optimizer = optim.Adam(model.parameters(), lr=0.001, weight_decay=1e-4)  # L2 regularization\n"
      ],
      "metadata": {
        "id": "L9ynZdSdv_xV"
      },
      "execution_count": 55,
      "outputs": []
    },
    {
      "cell_type": "code",
      "source": [
        "def train_phase(model, data, loss, optimizer, epochs=10):\n",
        "  model.train()\n",
        "  for epoch in range(epochs):\n",
        "    total_loss = 0.0\n",
        "    for images, labels in tqdm(data, desc=f\"the {epoch+1}/{epochs}\"):\n",
        "      images, labels = images.to(device), labels.to(device)\n",
        "\n",
        "      outputs = model(images)\n",
        "      err = loss(outputs, labels)\n",
        "\n",
        "      optimizer.zero_grad()\n",
        "      err.backward()\n",
        "      optimizer.step()\n",
        "\n",
        "      total_loss += err.item()\n",
        "    print(f\"Epoch [{epoch+1}/{epochs}], Loss: {total_loss/len(train_loader):.4f}\")\n",
        "      #print(images.shape)\n",
        "      #print(\"=======\")\n",
        "\n"
      ],
      "metadata": {
        "id": "a9W-ja2ohzW-"
      },
      "execution_count": 61,
      "outputs": []
    },
    {
      "cell_type": "code",
      "source": [
        "train_phase(model, train_loader, criterion, optimizer)"
      ],
      "metadata": {
        "colab": {
          "base_uri": "https://localhost:8080/"
        },
        "id": "3IlG2uaKlSo6",
        "outputId": "782f972a-a3bd-4f83-8240-a1ae15ca65d5"
      },
      "execution_count": 62,
      "outputs": [
        {
          "output_type": "stream",
          "name": "stderr",
          "text": [
            "the 0/10: 100%|██████████| 938/938 [00:20<00:00, 46.23it/s]\n"
          ]
        },
        {
          "output_type": "stream",
          "name": "stdout",
          "text": [
            "Epoch [1/10], Loss: 0.0380\n"
          ]
        },
        {
          "output_type": "stream",
          "name": "stderr",
          "text": [
            "the 1/10: 100%|██████████| 938/938 [00:20<00:00, 45.00it/s]\n"
          ]
        },
        {
          "output_type": "stream",
          "name": "stdout",
          "text": [
            "Epoch [2/10], Loss: 0.0366\n"
          ]
        },
        {
          "output_type": "stream",
          "name": "stderr",
          "text": [
            "the 2/10: 100%|██████████| 938/938 [00:20<00:00, 45.68it/s]\n"
          ]
        },
        {
          "output_type": "stream",
          "name": "stdout",
          "text": [
            "Epoch [3/10], Loss: 0.0335\n"
          ]
        },
        {
          "output_type": "stream",
          "name": "stderr",
          "text": [
            "the 3/10: 100%|██████████| 938/938 [00:20<00:00, 45.96it/s]\n"
          ]
        },
        {
          "output_type": "stream",
          "name": "stdout",
          "text": [
            "Epoch [4/10], Loss: 0.0331\n"
          ]
        },
        {
          "output_type": "stream",
          "name": "stderr",
          "text": [
            "the 4/10: 100%|██████████| 938/938 [00:19<00:00, 47.03it/s]\n"
          ]
        },
        {
          "output_type": "stream",
          "name": "stdout",
          "text": [
            "Epoch [5/10], Loss: 0.0308\n"
          ]
        },
        {
          "output_type": "stream",
          "name": "stderr",
          "text": [
            "the 5/10: 100%|██████████| 938/938 [00:20<00:00, 46.55it/s]\n"
          ]
        },
        {
          "output_type": "stream",
          "name": "stdout",
          "text": [
            "Epoch [6/10], Loss: 0.0283\n"
          ]
        },
        {
          "output_type": "stream",
          "name": "stderr",
          "text": [
            "the 6/10: 100%|██████████| 938/938 [00:20<00:00, 46.82it/s]\n"
          ]
        },
        {
          "output_type": "stream",
          "name": "stdout",
          "text": [
            "Epoch [7/10], Loss: 0.0288\n"
          ]
        },
        {
          "output_type": "stream",
          "name": "stderr",
          "text": [
            "the 7/10: 100%|██████████| 938/938 [00:20<00:00, 45.87it/s]\n"
          ]
        },
        {
          "output_type": "stream",
          "name": "stdout",
          "text": [
            "Epoch [8/10], Loss: 0.0254\n"
          ]
        },
        {
          "output_type": "stream",
          "name": "stderr",
          "text": [
            "the 8/10: 100%|██████████| 938/938 [00:19<00:00, 48.98it/s]\n"
          ]
        },
        {
          "output_type": "stream",
          "name": "stdout",
          "text": [
            "Epoch [9/10], Loss: 0.0257\n"
          ]
        },
        {
          "output_type": "stream",
          "name": "stderr",
          "text": [
            "the 9/10: 100%|██████████| 938/938 [00:20<00:00, 46.32it/s]"
          ]
        },
        {
          "output_type": "stream",
          "name": "stdout",
          "text": [
            "Epoch [10/10], Loss: 0.0245\n"
          ]
        },
        {
          "output_type": "stream",
          "name": "stderr",
          "text": [
            "\n"
          ]
        }
      ]
    },
    {
      "cell_type": "code",
      "source": [
        "def evaluate_model(model, test_loader):\n",
        "    model.eval()\n",
        "    all_labels = []\n",
        "    all_preds = []\n",
        "\n",
        "    with torch.no_grad():\n",
        "        for images, labels in tqdm(test_loader):\n",
        "            images, labels = images.to(device), labels.to(device)\n",
        "            outputs = model(images)\n",
        "            _, preds = torch.max(outputs, 1)\n",
        "\n",
        "            all_labels.extend(labels.cpu().numpy())\n",
        "            all_preds.extend(preds.cpu().numpy())\n",
        "\n",
        "    accuracy = accuracy_score(all_labels, all_preds)\n",
        "    f1 = f1_score(all_labels, all_preds, average='weighted')\n",
        "\n",
        "    print(f\"Accuracy: {accuracy:.4f}, F1 Score: {f1:.4f}\")\n",
        "    return accuracy, f1\n"
      ],
      "metadata": {
        "id": "JumrrnxwlffA"
      },
      "execution_count": 72,
      "outputs": []
    },
    {
      "cell_type": "code",
      "source": [
        "accuracy, f1 = evaluate_model(model, test_loader)"
      ],
      "metadata": {
        "colab": {
          "base_uri": "https://localhost:8080/"
        },
        "id": "4B0d4BZ0-Gg-",
        "outputId": "fb049619-fd71-4c7a-b5ee-03c45c317a42"
      },
      "execution_count": 73,
      "outputs": [
        {
          "output_type": "stream",
          "name": "stderr",
          "text": [
            "100%|██████████| 157/157 [00:04<00:00, 38.20it/s]\n"
          ]
        },
        {
          "output_type": "stream",
          "name": "stdout",
          "text": [
            "Accuracy: 0.9857, F1 Score: 0.9857\n"
          ]
        }
      ]
    },
    {
      "cell_type": "code",
      "source": [
        "# Data for plotting\n",
        "metrics = ['Accuracy', 'F1 Score']\n",
        "values = [accuracy, f1]\n",
        "\n",
        "# Create a bar chart\n",
        "plt.figure(figsize=(8, 5))\n",
        "plt.bar(metrics, values, color=['blue', 'orange'])\n",
        "plt.ylim(0, 1)  # Set y-axis limits from 0 to 1\n",
        "plt.title('Model Performance Metrics')\n",
        "plt.ylabel('Score')\n",
        "plt.axhline(y=0.90, color='red', linestyle='--', label='90% Threshold')  # Optional threshold line\n",
        "plt.legend()\n",
        "plt.grid(axis='y')\n",
        "\n",
        "# Show the plot\n",
        "plt.show()"
      ],
      "metadata": {
        "colab": {
          "base_uri": "https://localhost:8080/",
          "height": 468
        },
        "id": "uT9r3DxC-jpP",
        "outputId": "1606b095-5c89-429b-fa96-1e5669db7d18"
      },
      "execution_count": 76,
      "outputs": [
        {
          "output_type": "display_data",
          "data": {
            "text/plain": [
              "<Figure size 800x500 with 1 Axes>"
            ],
            "image/png": "[encoded data removed]"
          },
          "metadata": {}
        }
      ]
    },
    {
      "cell_type": "code",
      "source": [],
      "metadata": {
        "id": "pJeHQts2-_gf"
      },
      "execution_count": null,
      "outputs": []
    }
  ]
}