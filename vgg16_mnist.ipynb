{
 "cells": [
  {
   "cell_type": "code",
   "execution_count": 1,
   "id": "e1a6e35a",
   "metadata": {
    "_cell_guid": "b1076dfc-b9ad-4769-8c92-a6c4dae69d19",
    "_uuid": "8f2839f25d086af736a60e9eeb907d3b93b6e0e5",
    "execution": {
     "iopub.execute_input": "2024-11-22T01:14:41.709962Z",
     "iopub.status.busy": "2024-11-22T01:14:41.709618Z",
     "iopub.status.idle": "2024-11-22T01:14:52.917350Z",
     "shell.execute_reply": "2024-11-22T01:14:52.916215Z"
    },
    "papermill": {
     "duration": 11.216758,
     "end_time": "2024-11-22T01:14:52.919234",
     "exception": false,
     "start_time": "2024-11-22T01:14:41.702476",
     "status": "completed"
    },
    "tags": []
   },
   "outputs": [
    {
     "name": "stdout",
     "output_type": "stream",
     "text": [
      "Collecting idx2numpy\r\n",
      "  Downloading idx2numpy-1.2.3.tar.gz (6.8 kB)\r\n",
      "  Preparing metadata (setup.py) ... \u001b[?25l-\b \bdone\r\n",
      "\u001b[?25hRequirement already satisfied: numpy in /opt/conda/lib/python3.10/site-packages (from idx2numpy) (1.26.4)\r\n",
      "Requirement already satisfied: six in /opt/conda/lib/python3.10/site-packages (from idx2numpy) (1.16.0)\r\n",
      "Building wheels for collected packages: idx2numpy\r\n",
      "  Building wheel for idx2numpy (setup.py) ... \u001b[?25l-\b \b\\\b \bdone\r\n",
      "\u001b[?25h  Created wheel for idx2numpy: filename=idx2numpy-1.2.3-py3-none-any.whl size=7904 sha256=2c78ed12f59fd24649d05789c564ed715040d3afbce8485dcf114c40d9584d18\r\n",
      "  Stored in directory: /root/.cache/pip/wheels/e0/f4/e7/643fc5f932ec2ff92997f43f007660feb23f948aa8486f1107\r\n",
      "Successfully built idx2numpy\r\n",
      "Installing collected packages: idx2numpy\r\n",
      "Successfully installed idx2numpy-1.2.3\r\n",
      "Note: you may need to restart the kernel to use updated packages.\n"
     ]
    }
   ],
   "source": [
    "pip install idx2numpy"
   ]
  },
  {
   "cell_type": "code",
   "execution_count": 2,
   "id": "add292c5",
   "metadata": {
    "execution": {
     "iopub.execute_input": "2024-11-22T01:14:52.930134Z",
     "iopub.status.busy": "2024-11-22T01:14:52.929394Z",
     "iopub.status.idle": "2024-11-22T01:14:58.220765Z",
     "shell.execute_reply": "2024-11-22T01:14:58.220081Z"
    },
    "papermill": {
     "duration": 5.298841,
     "end_time": "2024-11-22T01:14:58.222777",
     "exception": false,
     "start_time": "2024-11-22T01:14:52.923936",
     "status": "completed"
    },
    "tags": []
   },
   "outputs": [],
   "source": [
    "import torch\n",
    "# import torchvision\n",
    "from torchvision import models, transforms\n",
    "from torch.utils.data import Dataset, DataLoader\n",
    "import idx2numpy\n",
    "import time\n",
    "from sklearn.metrics import accuracy_score, f1_score"
   ]
  },
  {
   "cell_type": "code",
   "execution_count": 3,
   "id": "7b2c73c8",
   "metadata": {
    "execution": {
     "iopub.execute_input": "2024-11-22T01:14:58.233577Z",
     "iopub.status.busy": "2024-11-22T01:14:58.233213Z",
     "iopub.status.idle": "2024-11-22T01:14:58.311578Z",
     "shell.execute_reply": "2024-11-22T01:14:58.310669Z"
    },
    "papermill": {
     "duration": 0.085297,
     "end_time": "2024-11-22T01:14:58.313241",
     "exception": false,
     "start_time": "2024-11-22T01:14:58.227944",
     "status": "completed"
    },
    "tags": []
   },
   "outputs": [],
   "source": [
    "# Check GPU availability\n",
    "device = torch.device(\"cuda\" if torch.cuda.is_available() else \"cpu\")"
   ]
  },
  {
   "cell_type": "code",
   "execution_count": 4,
   "id": "6f5f76fe",
   "metadata": {
    "execution": {
     "iopub.execute_input": "2024-11-22T01:14:58.324633Z",
     "iopub.status.busy": "2024-11-22T01:14:58.323981Z",
     "iopub.status.idle": "2024-11-22T01:14:58.328189Z",
     "shell.execute_reply": "2024-11-22T01:14:58.327368Z"
    },
    "papermill": {
     "duration": 0.010927,
     "end_time": "2024-11-22T01:14:58.329826",
     "exception": false,
     "start_time": "2024-11-22T01:14:58.318899",
     "status": "completed"
    },
    "tags": []
   },
   "outputs": [
    {
     "name": "stdout",
     "output_type": "stream",
     "text": [
      "cuda\n"
     ]
    }
   ],
   "source": [
    "print(device)"
   ]
  },
  {
   "cell_type": "code",
   "execution_count": 5,
   "id": "100336b0",
   "metadata": {
    "execution": {
     "iopub.execute_input": "2024-11-22T01:14:58.339050Z",
     "iopub.status.busy": "2024-11-22T01:14:58.338796Z",
     "iopub.status.idle": "2024-11-22T01:14:58.342500Z",
     "shell.execute_reply": "2024-11-22T01:14:58.341879Z"
    },
    "papermill": {
     "duration": 0.010089,
     "end_time": "2024-11-22T01:14:58.344013",
     "exception": false,
     "start_time": "2024-11-22T01:14:58.333924",
     "status": "completed"
    },
    "tags": []
   },
   "outputs": [],
   "source": [
    "\n",
    "# Charger les données IDX\n",
    "train_images_path = \"/kaggle/input/mnist-dataset/train-images.idx3-ubyte\"\n",
    "train_labels_path = \"/kaggle/input/mnist-dataset/train-labels.idx1-ubyte\"\n",
    "test_images_path = \"/kaggle/input/mnist-dataset/t10k-images.idx3-ubyte\"\n",
    "test_labels_path = \"/kaggle/input/mnist-dataset/t10k-labels.idx1-ubyte\""
   ]
  },
  {
   "cell_type": "code",
   "execution_count": 6,
   "id": "16b1db32",
   "metadata": {
    "execution": {
     "iopub.execute_input": "2024-11-22T01:14:58.353639Z",
     "iopub.status.busy": "2024-11-22T01:14:58.353413Z",
     "iopub.status.idle": "2024-11-22T01:14:59.000705Z",
     "shell.execute_reply": "2024-11-22T01:14:58.999739Z"
    },
    "papermill": {
     "duration": 0.654219,
     "end_time": "2024-11-22T01:14:59.002707",
     "exception": false,
     "start_time": "2024-11-22T01:14:58.348488",
     "status": "completed"
    },
    "tags": []
   },
   "outputs": [],
   "source": [
    "\n",
    "train_images = idx2numpy.convert_from_file(train_images_path)\n",
    "train_labels = idx2numpy.convert_from_file(train_labels_path)\n",
    "test_images = idx2numpy.convert_from_file(test_images_path)\n",
    "test_labels = idx2numpy.convert_from_file(test_labels_path)"
   ]
  },
  {
   "cell_type": "code",
   "execution_count": 7,
   "id": "a9aa3fb0",
   "metadata": {
    "execution": {
     "iopub.execute_input": "2024-11-22T01:14:59.012640Z",
     "iopub.status.busy": "2024-11-22T01:14:59.012348Z",
     "iopub.status.idle": "2024-11-22T01:14:59.016871Z",
     "shell.execute_reply": "2024-11-22T01:14:59.015933Z"
    },
    "papermill": {
     "duration": 0.011173,
     "end_time": "2024-11-22T01:14:59.018424",
     "exception": false,
     "start_time": "2024-11-22T01:14:59.007251",
     "status": "completed"
    },
    "tags": []
   },
   "outputs": [
    {
     "name": "stdout",
     "output_type": "stream",
     "text": [
      "(60000, 28, 28)\n"
     ]
    }
   ],
   "source": [
    "print(train_images.shape)"
   ]
  },
  {
   "cell_type": "code",
   "execution_count": 8,
   "id": "aa336d6f",
   "metadata": {
    "execution": {
     "iopub.execute_input": "2024-11-22T01:14:59.028318Z",
     "iopub.status.busy": "2024-11-22T01:14:59.028067Z",
     "iopub.status.idle": "2024-11-22T01:14:59.038121Z",
     "shell.execute_reply": "2024-11-22T01:14:59.037347Z"
    },
    "papermill": {
     "duration": 0.017281,
     "end_time": "2024-11-22T01:14:59.039894",
     "exception": false,
     "start_time": "2024-11-22T01:14:59.022613",
     "status": "completed"
    },
    "tags": []
   },
   "outputs": [
    {
     "data": {
      "text/plain": [
       "255"
      ]
     },
     "execution_count": 8,
     "metadata": {},
     "output_type": "execute_result"
    }
   ],
   "source": [
    "train_images.max()"
   ]
  },
  {
   "cell_type": "code",
   "execution_count": 9,
   "id": "c3988bbd",
   "metadata": {
    "execution": {
     "iopub.execute_input": "2024-11-22T01:14:59.050305Z",
     "iopub.status.busy": "2024-11-22T01:14:59.050065Z",
     "iopub.status.idle": "2024-11-22T01:14:59.196051Z",
     "shell.execute_reply": "2024-11-22T01:14:59.195077Z"
    },
    "papermill": {
     "duration": 0.153561,
     "end_time": "2024-11-22T01:14:59.198322",
     "exception": false,
     "start_time": "2024-11-22T01:14:59.044761",
     "status": "completed"
    },
    "tags": []
   },
   "outputs": [],
   "source": [
    "# Normalisation des données\n",
    "train_images = train_images / 255.0\n",
    "test_images = test_images / 255.0"
   ]
  },
  {
   "cell_type": "code",
   "execution_count": 10,
   "id": "fd92edf8",
   "metadata": {
    "execution": {
     "iopub.execute_input": "2024-11-22T01:14:59.208584Z",
     "iopub.status.busy": "2024-11-22T01:14:59.208296Z",
     "iopub.status.idle": "2024-11-22T01:14:59.273349Z",
     "shell.execute_reply": "2024-11-22T01:14:59.272426Z"
    },
    "papermill": {
     "duration": 0.072041,
     "end_time": "2024-11-22T01:14:59.275024",
     "exception": false,
     "start_time": "2024-11-22T01:14:59.202983",
     "status": "completed"
    },
    "tags": []
   },
   "outputs": [
    {
     "name": "stdout",
     "output_type": "stream",
     "text": [
      "1.0\n",
      "0.0\n"
     ]
    }
   ],
   "source": [
    "print(train_images.max())\n",
    "print(train_images.min())"
   ]
  },
  {
   "cell_type": "code",
   "execution_count": 11,
   "id": "d744d778",
   "metadata": {
    "execution": {
     "iopub.execute_input": "2024-11-22T01:14:59.284916Z",
     "iopub.status.busy": "2024-11-22T01:14:59.284621Z",
     "iopub.status.idle": "2024-11-22T01:14:59.288969Z",
     "shell.execute_reply": "2024-11-22T01:14:59.287903Z"
    },
    "papermill": {
     "duration": 0.011132,
     "end_time": "2024-11-22T01:14:59.290571",
     "exception": false,
     "start_time": "2024-11-22T01:14:59.279439",
     "status": "completed"
    },
    "tags": []
   },
   "outputs": [],
   "source": [
    "# Transformations pour les datasets\n",
    "transform = transforms.Compose([\n",
    "    transforms.ToPILImage(),\n",
    "    transforms.Resize((224, 224)),  # Redimensionnement à 224x224\n",
    "    transforms.ToTensor()\n",
    "])"
   ]
  },
  {
   "cell_type": "code",
   "execution_count": 12,
   "id": "aa904b7f",
   "metadata": {
    "execution": {
     "iopub.execute_input": "2024-11-22T01:14:59.300262Z",
     "iopub.status.busy": "2024-11-22T01:14:59.299993Z",
     "iopub.status.idle": "2024-11-22T01:14:59.304876Z",
     "shell.execute_reply": "2024-11-22T01:14:59.304094Z"
    },
    "papermill": {
     "duration": 0.011527,
     "end_time": "2024-11-22T01:14:59.306487",
     "exception": false,
     "start_time": "2024-11-22T01:14:59.294960",
     "status": "completed"
    },
    "tags": []
   },
   "outputs": [],
   "source": [
    "#custionm mnist dataset to vgg\n",
    "class mnist_dataset(Dataset):\n",
    "    def __init__(self, images, labels, transform=None):\n",
    "        self.images = images\n",
    "        self.labels = labels\n",
    "        self.transform = transform\n",
    "\n",
    "\n",
    "    def __len__(self):\n",
    "        return len(self.images)\n",
    "\n",
    "   \n",
    "    def __getitem__(self, idx):\n",
    "        image = self.images[idx]\n",
    "        label = self.labels[idx]\n",
    "        if self.transform:\n",
    "            image = self.transform(image)\n",
    "        return image, label\n"
   ]
  },
  {
   "cell_type": "code",
   "execution_count": 13,
   "id": "c6f7b522",
   "metadata": {
    "execution": {
     "iopub.execute_input": "2024-11-22T01:14:59.315933Z",
     "iopub.status.busy": "2024-11-22T01:14:59.315710Z",
     "iopub.status.idle": "2024-11-22T01:14:59.319430Z",
     "shell.execute_reply": "2024-11-22T01:14:59.318633Z"
    },
    "papermill": {
     "duration": 0.010218,
     "end_time": "2024-11-22T01:14:59.320966",
     "exception": false,
     "start_time": "2024-11-22T01:14:59.310748",
     "status": "completed"
    },
    "tags": []
   },
   "outputs": [],
   "source": [
    "train_dataset = mnist_dataset(train_images, train_labels, transform=transform)\n",
    "test_dataset = mnist_dataset(test_images, test_labels, transform=transform)"
   ]
  },
  {
   "cell_type": "code",
   "execution_count": 14,
   "id": "cef2f25d",
   "metadata": {
    "execution": {
     "iopub.execute_input": "2024-11-22T01:14:59.330570Z",
     "iopub.status.busy": "2024-11-22T01:14:59.330322Z",
     "iopub.status.idle": "2024-11-22T01:14:59.334200Z",
     "shell.execute_reply": "2024-11-22T01:14:59.333408Z"
    },
    "papermill": {
     "duration": 0.010467,
     "end_time": "2024-11-22T01:14:59.335831",
     "exception": false,
     "start_time": "2024-11-22T01:14:59.325364",
     "status": "completed"
    },
    "tags": []
   },
   "outputs": [],
   "source": [
    "train_loader = DataLoader(train_dataset, batch_size=64, shuffle=True)\n",
    "test_loader = DataLoader(test_dataset, batch_size=64, shuffle=False)"
   ]
  },
  {
   "cell_type": "code",
   "execution_count": 15,
   "id": "f94cf96f",
   "metadata": {
    "execution": {
     "iopub.execute_input": "2024-11-22T01:14:59.345634Z",
     "iopub.status.busy": "2024-11-22T01:14:59.345388Z",
     "iopub.status.idle": "2024-11-22T01:15:03.881300Z",
     "shell.execute_reply": "2024-11-22T01:15:03.880340Z"
    },
    "papermill": {
     "duration": 4.543037,
     "end_time": "2024-11-22T01:15:03.883347",
     "exception": false,
     "start_time": "2024-11-22T01:14:59.340310",
     "status": "completed"
    },
    "tags": []
   },
   "outputs": [
    {
     "name": "stderr",
     "output_type": "stream",
     "text": [
      "Downloading: \"https://download.pytorch.org/models/vgg16-397923af.pth\" to /root/.cache/torch/hub/checkpoints/vgg16-397923af.pth\n",
      "100%|██████████| 528M/528M [00:02<00:00, 199MB/s]\n"
     ]
    }
   ],
   "source": [
    "vgg16 = models.vgg16(weights=models.VGG16_Weights.DEFAULT)"
   ]
  },
  {
   "cell_type": "code",
   "execution_count": 16,
   "id": "472fc79c",
   "metadata": {
    "execution": {
     "iopub.execute_input": "2024-11-22T01:15:03.897186Z",
     "iopub.status.busy": "2024-11-22T01:15:03.896881Z",
     "iopub.status.idle": "2024-11-22T01:15:03.901865Z",
     "shell.execute_reply": "2024-11-22T01:15:03.901083Z"
    },
    "papermill": {
     "duration": 0.013986,
     "end_time": "2024-11-22T01:15:03.903561",
     "exception": false,
     "start_time": "2024-11-22T01:15:03.889575",
     "status": "completed"
    },
    "tags": []
   },
   "outputs": [],
   "source": [
    "vgg16.features[0] = torch.nn.Conv2d(1, 64, kernel_size=3, stride=1, padding=0)"
   ]
  },
  {
   "cell_type": "code",
   "execution_count": 17,
   "id": "4eb03d37",
   "metadata": {
    "execution": {
     "iopub.execute_input": "2024-11-22T01:15:03.916501Z",
     "iopub.status.busy": "2024-11-22T01:15:03.916229Z",
     "iopub.status.idle": "2024-11-22T01:15:03.922517Z",
     "shell.execute_reply": "2024-11-22T01:15:03.921796Z"
    },
    "papermill": {
     "duration": 0.014845,
     "end_time": "2024-11-22T01:15:03.924119",
     "exception": false,
     "start_time": "2024-11-22T01:15:03.909274",
     "status": "completed"
    },
    "tags": []
   },
   "outputs": [],
   "source": [
    "num_classes = 10\n",
    "vgg16.classifier[6] = torch.nn.Linear(vgg16.classifier[6].in_features, num_classes)\n",
    "vgg16.features = torch.nn.Sequential(*list(vgg16.features.children())[:-1])"
   ]
  },
  {
   "cell_type": "code",
   "execution_count": 18,
   "id": "56bf8497",
   "metadata": {
    "execution": {
     "iopub.execute_input": "2024-11-22T01:15:03.936414Z",
     "iopub.status.busy": "2024-11-22T01:15:03.936178Z",
     "iopub.status.idle": "2024-11-22T01:15:04.289542Z",
     "shell.execute_reply": "2024-11-22T01:15:04.288649Z"
    },
    "papermill": {
     "duration": 0.361709,
     "end_time": "2024-11-22T01:15:04.291459",
     "exception": false,
     "start_time": "2024-11-22T01:15:03.929750",
     "status": "completed"
    },
    "tags": []
   },
   "outputs": [
    {
     "data": {
      "text/plain": [
       "VGG(\n",
       "  (features): Sequential(\n",
       "    (0): Conv2d(1, 64, kernel_size=(3, 3), stride=(1, 1))\n",
       "    (1): ReLU(inplace=True)\n",
       "    (2): Conv2d(64, 64, kernel_size=(3, 3), stride=(1, 1), padding=(1, 1))\n",
       "    (3): ReLU(inplace=True)\n",
       "    (4): MaxPool2d(kernel_size=2, stride=2, padding=0, dilation=1, ceil_mode=False)\n",
       "    (5): Conv2d(64, 128, kernel_size=(3, 3), stride=(1, 1), padding=(1, 1))\n",
       "    (6): ReLU(inplace=True)\n",
       "    (7): Conv2d(128, 128, kernel_size=(3, 3), stride=(1, 1), padding=(1, 1))\n",
       "    (8): ReLU(inplace=True)\n",
       "    (9): MaxPool2d(kernel_size=2, stride=2, padding=0, dilation=1, ceil_mode=False)\n",
       "    (10): Conv2d(128, 256, kernel_size=(3, 3), stride=(1, 1), padding=(1, 1))\n",
       "    (11): ReLU(inplace=True)\n",
       "    (12): Conv2d(256, 256, kernel_size=(3, 3), stride=(1, 1), padding=(1, 1))\n",
       "    (13): ReLU(inplace=True)\n",
       "    (14): Conv2d(256, 256, kernel_size=(3, 3), stride=(1, 1), padding=(1, 1))\n",
       "    (15): ReLU(inplace=True)\n",
       "    (16): MaxPool2d(kernel_size=2, stride=2, padding=0, dilation=1, ceil_mode=False)\n",
       "    (17): Conv2d(256, 512, kernel_size=(3, 3), stride=(1, 1), padding=(1, 1))\n",
       "    (18): ReLU(inplace=True)\n",
       "    (19): Conv2d(512, 512, kernel_size=(3, 3), stride=(1, 1), padding=(1, 1))\n",
       "    (20): ReLU(inplace=True)\n",
       "    (21): Conv2d(512, 512, kernel_size=(3, 3), stride=(1, 1), padding=(1, 1))\n",
       "    (22): ReLU(inplace=True)\n",
       "    (23): MaxPool2d(kernel_size=2, stride=2, padding=0, dilation=1, ceil_mode=False)\n",
       "    (24): Conv2d(512, 512, kernel_size=(3, 3), stride=(1, 1), padding=(1, 1))\n",
       "    (25): ReLU(inplace=True)\n",
       "    (26): Conv2d(512, 512, kernel_size=(3, 3), stride=(1, 1), padding=(1, 1))\n",
       "    (27): ReLU(inplace=True)\n",
       "    (28): Conv2d(512, 512, kernel_size=(3, 3), stride=(1, 1), padding=(1, 1))\n",
       "    (29): ReLU(inplace=True)\n",
       "  )\n",
       "  (avgpool): AdaptiveAvgPool2d(output_size=(7, 7))\n",
       "  (classifier): Sequential(\n",
       "    (0): Linear(in_features=25088, out_features=4096, bias=True)\n",
       "    (1): ReLU(inplace=True)\n",
       "    (2): Dropout(p=0.5, inplace=False)\n",
       "    (3): Linear(in_features=4096, out_features=4096, bias=True)\n",
       "    (4): ReLU(inplace=True)\n",
       "    (5): Dropout(p=0.5, inplace=False)\n",
       "    (6): Linear(in_features=4096, out_features=10, bias=True)\n",
       "  )\n",
       ")"
      ]
     },
     "execution_count": 18,
     "metadata": {},
     "output_type": "execute_result"
    }
   ],
   "source": [
    "vgg16.to(device)"
   ]
  },
  {
   "cell_type": "code",
   "execution_count": 19,
   "id": "45478573",
   "metadata": {
    "execution": {
     "iopub.execute_input": "2024-11-22T01:15:04.304690Z",
     "iopub.status.busy": "2024-11-22T01:15:04.304154Z",
     "iopub.status.idle": "2024-11-22T01:15:04.308571Z",
     "shell.execute_reply": "2024-11-22T01:15:04.307802Z"
    },
    "papermill": {
     "duration": 0.012767,
     "end_time": "2024-11-22T01:15:04.310248",
     "exception": false,
     "start_time": "2024-11-22T01:15:04.297481",
     "status": "completed"
    },
    "tags": []
   },
   "outputs": [],
   "source": [
    "criterion = torch.nn.CrossEntropyLoss()\n",
    "optimizer = torch.optim.SGD(vgg16.parameters(), lr=0.01, momentum=0.9)"
   ]
  },
  {
   "cell_type": "code",
   "execution_count": 20,
   "id": "0c8cf7a8",
   "metadata": {
    "execution": {
     "iopub.execute_input": "2024-11-22T01:15:04.322864Z",
     "iopub.status.busy": "2024-11-22T01:15:04.322632Z",
     "iopub.status.idle": "2024-11-22T01:15:04.326155Z",
     "shell.execute_reply": "2024-11-22T01:15:04.325486Z"
    },
    "papermill": {
     "duration": 0.011676,
     "end_time": "2024-11-22T01:15:04.327589",
     "exception": false,
     "start_time": "2024-11-22T01:15:04.315913",
     "status": "completed"
    },
    "tags": []
   },
   "outputs": [],
   "source": [
    "# Entraînement du modèle\n",
    "num_epochs = 5\n",
    "start_time = time.time()"
   ]
  },
  {
   "cell_type": "code",
   "execution_count": 21,
   "id": "418c6ba2",
   "metadata": {
    "execution": {
     "iopub.execute_input": "2024-11-22T01:15:04.339876Z",
     "iopub.status.busy": "2024-11-22T01:15:04.339441Z",
     "iopub.status.idle": "2024-11-22T02:24:02.992524Z",
     "shell.execute_reply": "2024-11-22T02:24:02.991538Z"
    },
    "papermill": {
     "duration": 4138.667286,
     "end_time": "2024-11-22T02:24:03.000423",
     "exception": false,
     "start_time": "2024-11-22T01:15:04.333137",
     "status": "completed"
    },
    "tags": []
   },
   "outputs": [
    {
     "name": "stdout",
     "output_type": "stream",
     "text": [
      "Epoch 1/5, Loss: 0.6421\n",
      "Epoch 2/5, Loss: 0.0702\n",
      "Epoch 3/5, Loss: 0.0436\n",
      "Epoch 4/5, Loss: 0.0324\n",
      "Epoch 5/5, Loss: 0.0273\n",
      "Training Time: 4138.67 seconds\n"
     ]
    }
   ],
   "source": [
    "for epoch in range(num_epochs):\n",
    "    vgg16.train()\n",
    "    running_loss = 0.0\n",
    "    for images, labels in train_loader:\n",
    "        images, labels = images.to(device), labels.to(device)\n",
    "\n",
    "        # Forward pass\n",
    "        outputs = vgg16(images)\n",
    "        loss = criterion(outputs, labels)\n",
    "\n",
    "        # Backward pass\n",
    "        optimizer.zero_grad()\n",
    "        loss.backward()\n",
    "        optimizer.step()\n",
    "\n",
    "        running_loss += loss.item()\n",
    "\n",
    "    print(f\"Epoch {epoch + 1}/{num_epochs}, Loss: {running_loss / len(train_loader):.4f}\")\n",
    "\n",
    "training_time = time.time() - start_time\n",
    "print(f\"Training Time: {training_time:.2f} seconds\")"
   ]
  },
  {
   "cell_type": "code",
   "execution_count": 22,
   "id": "1e432a9a",
   "metadata": {
    "execution": {
     "iopub.execute_input": "2024-11-22T02:24:03.014124Z",
     "iopub.status.busy": "2024-11-22T02:24:03.013257Z",
     "iopub.status.idle": "2024-11-22T02:24:53.051155Z",
     "shell.execute_reply": "2024-11-22T02:24:53.050342Z"
    },
    "papermill": {
     "duration": 50.05347,
     "end_time": "2024-11-22T02:24:53.059823",
     "exception": false,
     "start_time": "2024-11-22T02:24:03.006353",
     "status": "completed"
    },
    "tags": []
   },
   "outputs": [
    {
     "name": "stdout",
     "output_type": "stream",
     "text": [
      "Accuracy: 0.9942\n",
      "F1 Score: 0.9942\n"
     ]
    }
   ],
   "source": [
    "# Évaluation\n",
    "vgg16.eval()\n",
    "all_preds = []\n",
    "all_labels = []\n",
    "\n",
    "with torch.no_grad():\n",
    "    for images, labels in test_loader:\n",
    "        images, labels = images.to(device), labels.to(device)\n",
    "        outputs = vgg16(images)\n",
    "        _, preds = torch.max(outputs, 1)\n",
    "        all_preds.extend(preds.cpu().numpy())\n",
    "        all_labels.extend(labels.cpu().numpy())\n",
    "\n",
    "# Calcul des métriques\n",
    "accuracy = accuracy_score(all_labels, all_preds)\n",
    "f1 = f1_score(all_labels, all_preds, average=\"weighted\")\n",
    "\n",
    "print(f\"Accuracy: {accuracy:.4f}\")\n",
    "print(f\"F1 Score: {f1:.4f}\")"
   ]
  },
  {
   "cell_type": "code",
   "execution_count": null,
   "id": "6ae9d993",
   "metadata": {
    "papermill": {
     "duration": 0.006092,
     "end_time": "2024-11-22T02:24:53.071969",
     "exception": false,
     "start_time": "2024-11-22T02:24:53.065877",
     "status": "completed"
    },
    "tags": []
   },
   "outputs": [],
   "source": []
  }
 ],
 "metadata": {
  "kaggle": {
   "accelerator": "nvidiaTeslaT4",
   "dataSources": [
    {
     "datasetId": 102285,
     "sourceId": 242592,
     "sourceType": "datasetVersion"
    }
   ],
   "dockerImageVersionId": 30786,
   "isGpuEnabled": true,
   "isInternetEnabled": true,
   "language": "python",
   "sourceType": "notebook"
  },
  "kernelspec": {
   "display_name": "Python 3",
   "language": "python",
   "name": "python3"
  },
  "language_info": {
   "codemirror_mode": {
    "name": "ipython",
    "version": 3
   },
   "file_extension": ".py",
   "mimetype": "text/x-python",
   "name": "python",
   "nbconvert_exporter": "python",
   "pygments_lexer": "ipython3",
   "version": "3.10.14"
  },
  "papermill": {
   "default_parameters": {},
   "duration": 4215.12107,
   "end_time": "2024-11-22T02:24:54.499594",
   "environment_variables": {},
   "exception": null,
   "input_path": "__notebook__.ipynb",
   "output_path": "__notebook__.ipynb",
   "parameters": {},
   "start_time": "2024-11-22T01:14:39.378524",
   "version": "2.6.0"
  }
 },
 "nbformat": 4,
 "nbformat_minor": 5
}
